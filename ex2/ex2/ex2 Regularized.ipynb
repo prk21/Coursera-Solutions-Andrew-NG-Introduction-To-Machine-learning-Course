{
 "cells": [
  {
   "cell_type": "code",
   "execution_count": 1,
   "metadata": {},
   "outputs": [],
   "source": [
    "import numpy as np\n",
    "import pandas as pd"
   ]
  },
  {
   "cell_type": "code",
   "execution_count": 3,
   "metadata": {},
   "outputs": [],
   "source": [
    "data=np.genfromtxt('ex2data2.txt',delimiter=',')\n",
    "X=data[:,0:2]\n",
    "y=data[:,2]"
   ]
  },
  {
   "cell_type": "code",
   "execution_count": 4,
   "metadata": {},
   "outputs": [],
   "source": [
    "def mapFeature(X1, X2):\n",
    "    degree = 6\n",
    "    out = np.ones(X_new.shape[0])[:,np.newaxis]\n",
    "    for i in range(1, degree+1):\n",
    "        for j in range(i+1):\n",
    "            out = np.hstack((out, np.multiply(np.power(X1, i-j),np.power(X2, j))[:,np.newaxis]))\n",
    "    return out"
   ]
  },
  {
   "cell_type": "code",
   "execution_count": 17,
   "metadata": {},
   "outputs": [],
   "source": [
    "def sigmoid(z):\n",
    "    #temp=np.dot(X,theta)\n",
    "    ans=1/(1+ np.exp(-z))\n",
    "    return ans"
   ]
  },
  {
   "cell_type": "code",
   "execution_count": 6,
   "metadata": {},
   "outputs": [],
   "source": [
    "X_m=mapFeature(X[:,0],X[:,1])"
   ]
  },
  {
   "cell_type": "code",
   "execution_count": 7,
   "metadata": {},
   "outputs": [],
   "source": [
    "X=X_m"
   ]
  },
  {
   "cell_type": "code",
   "execution_count": 8,
   "metadata": {},
   "outputs": [
    {
     "data": {
      "text/plain": [
       "(118, 28)"
      ]
     },
     "execution_count": 8,
     "metadata": {},
     "output_type": "execute_result"
    }
   ],
   "source": [
    "X.shape"
   ]
  },
  {
   "cell_type": "code",
   "execution_count": 9,
   "metadata": {},
   "outputs": [],
   "source": [
    "lamda=1\n",
    "initial_theta=np.zeros((X.shape[1],))"
   ]
  },
  {
   "cell_type": "code",
   "execution_count": 10,
   "metadata": {},
   "outputs": [],
   "source": [
    "def lrCostFunction(theta_t1, X_t1, y_t1, lambda_t1):\n",
    "    m = len(y_t1)\n",
    "    J = (-1/m) * (y_t1.T @ np.log(sigmoid(X_t1 @ theta_t1)) + (1 - y_t1.T) @ np.log(1 - sigmoid(X_t1 @ theta_t1)))\n",
    "    reg = (lambda_t1/(2*m)) * (theta_t1[1:].T @ theta_t1[1:])\n",
    "    J = J + reg\n",
    "    return J"
   ]
  },
  {
   "cell_type": "code",
   "execution_count": 11,
   "metadata": {},
   "outputs": [],
   "source": [
    "def lrGradientDescent(theta1, X1, y1, lambda_t):\n",
    "    m = len(y1)\n",
    "    grad = np.zeros([m,1])\n",
    "    grad = (1/m) * X1.T @ (sigmoid(X1 @ theta1) - y1)\n",
    "    grad[1:] = grad[1:] + (lambda_t / m) * theta1[1:]\n",
    "    return grad\n"
   ]
  },
  {
   "cell_type": "code",
   "execution_count": 18,
   "metadata": {},
   "outputs": [
    {
     "name": "stdout",
     "output_type": "stream",
     "text": [
      "[ 1.27271029  0.62529965  1.18111687 -2.01987399 -0.91743191 -1.43166931\n",
      "  0.12393226 -0.36553117 -0.35725402 -0.17516292 -1.45817012 -0.05098418\n",
      " -0.61558546 -0.27469165 -1.19271297 -0.24217839 -0.20603291 -0.04466178\n",
      " -0.27778956 -0.29539513 -0.45645982 -1.04319156  0.02779373 -0.29244878\n",
      "  0.01555762 -0.32742408 -0.14389151 -0.92467486]\n"
     ]
    }
   ],
   "source": [
    "from scipy import optimize as op\n",
    "output = op.fmin_tnc(func = lrCostFunction, x0 = initial_theta.flatten(), fprime = lrGradientDescent, \\\n",
    "                         args = (X, y.flatten(), lamda))\n",
    "theta_out_net = output[0]\n",
    "print(theta_out_net) # theta contains the optimized values\n"
   ]
  },
  {
   "cell_type": "code",
   "execution_count": 19,
   "metadata": {},
   "outputs": [
    {
     "data": {
      "text/plain": [
       "83.05084745762711"
      ]
     },
     "execution_count": 19,
     "metadata": {},
     "output_type": "execute_result"
    }
   ],
   "source": [
    "pred = [sigmoid(np.dot(X, theta_out_net)) >= 0.5]\n",
    "np.mean(pred == y.flatten()) * 100\n"
   ]
  },
  {
   "cell_type": "code",
   "execution_count": 42,
   "metadata": {},
   "outputs": [],
   "source": [
    "def costFunctionReg(theta_t,X_t,y_t,lamda):\n",
    "    m=len(y_t)\n",
    "    h=sigmoid(np.dot(X_t,theta_t))\n",
    "    temp=0\n",
    "    temp= - np.dot(np.log(h).T,y_t) - np.dot(np.log(1-h).T,(1-y_t))\n",
    "    temp=temp/m\n",
    "    #theta1=theta_t\n",
    "    #theta1[0]=0\n",
    "    #reg=np.sum(np.power(theta1,2))\n",
    "    temp1=(lamda/(2*m)) *(theta_t[1:].T @theta_t[1:])\n",
    "    J=temp1+temp\n",
    "    #J=temp+reg\n",
    "    return J"
   ]
  },
  {
   "cell_type": "code",
   "execution_count": 43,
   "metadata": {},
   "outputs": [],
   "source": [
    "def costFunctionRegGradient(theta_t,X_t,y_t,lamda):\n",
    "    m=len(y_t)\n",
    "    h=sigmoid(np.dot(X_t,theta_t))\n",
    "    grad=np.zeros([m,1])\n",
    "    grad=(1/m)* np.dot(X_t.transpose(),(h-y_t))\n",
    "    #theta1=(lamda/m) *theta_t\n",
    "    #theta1\n",
    "    #temp1[0]=temp1[0]- (lamda/m)*theta[0]\n",
    "    #temp[1:]= temp[1:] + (lamda/m)* theta[1:]\n",
    "    grad[1:]=grad[1:]+ (lamda/m)* theta_t[1:]\n",
    "    return grad\n"
   ]
  },
  {
   "cell_type": "code",
   "execution_count": 44,
   "metadata": {},
   "outputs": [
    {
     "name": "stdout",
     "output_type": "stream",
     "text": [
      "[ 1.27271025  0.62529964  1.18111686 -2.01987399 -0.91743189 -1.43166927\n",
      "  0.12393228 -0.36553118 -0.35725405 -0.17516292 -1.45817009 -0.05098418\n",
      " -0.61558558 -0.27469165 -1.19271299 -0.24217841 -0.20603303 -0.04466177\n",
      " -0.27778947 -0.29539513 -0.45645982 -1.04319154  0.02779373 -0.29244865\n",
      "  0.01555759 -0.32742404 -0.14389149 -0.92467488]\n"
     ]
    }
   ],
   "source": [
    "output = op.fmin_tnc(func = costFunctionReg, x0 = initial_theta.flatten(), fprime = costFunctionRegGradient, \\\n",
    "                         args = (X, y.flatten(), lamda))\n",
    "theta_out = output[0]\n",
    "print(theta_out) # theta contains the optimized values\n"
   ]
  },
  {
   "cell_type": "code",
   "execution_count": null,
   "metadata": {},
   "outputs": [],
   "source": []
  }
 ],
 "metadata": {
  "kernelspec": {
   "display_name": "Python 3",
   "language": "python",
   "name": "python3"
  },
  "language_info": {
   "codemirror_mode": {
    "name": "ipython",
    "version": 3
   },
   "file_extension": ".py",
   "mimetype": "text/x-python",
   "name": "python",
   "nbconvert_exporter": "python",
   "pygments_lexer": "ipython3",
   "version": "3.6.5"
  }
 },
 "nbformat": 4,
 "nbformat_minor": 2
}
