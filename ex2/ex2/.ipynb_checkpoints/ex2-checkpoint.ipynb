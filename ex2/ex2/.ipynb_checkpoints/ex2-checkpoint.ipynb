{
 "cells": [
  {
   "cell_type": "code",
   "execution_count": 1,
   "metadata": {},
   "outputs": [],
   "source": [
    "import numpy as np\n",
    "import pandas as pd"
   ]
  },
  {
   "cell_type": "code",
   "execution_count": 2,
   "metadata": {},
   "outputs": [],
   "source": [
    "data=np.genfromtxt('ex2data1.txt',delimiter=',')"
   ]
  },
  {
   "cell_type": "code",
   "execution_count": 3,
   "metadata": {},
   "outputs": [],
   "source": [
    "#data"
   ]
  },
  {
   "cell_type": "code",
   "execution_count": 31,
   "metadata": {},
   "outputs": [],
   "source": [
    "X_pre=data[:,0:2]\n",
    "y=data[:,2]\n"
   ]
  },
  {
   "cell_type": "code",
   "execution_count": 32,
   "metadata": {},
   "outputs": [],
   "source": [
    "X=np.insert(X_pre,0,1,axis=1)"
   ]
  },
  {
   "cell_type": "code",
   "execution_count": 6,
   "metadata": {},
   "outputs": [],
   "source": [
    "#X"
   ]
  },
  {
   "cell_type": "code",
   "execution_count": 7,
   "metadata": {},
   "outputs": [],
   "source": [
    "def sigmoid(z):\n",
    "    #temp=np.dot(X,theta)\n",
    "    ans=1/(1+ np.exp(-z))\n",
    "    return ans"
   ]
  },
  {
   "cell_type": "code",
   "execution_count": 33,
   "metadata": {},
   "outputs": [],
   "source": [
    "features=X.shape[1]"
   ]
  },
  {
   "cell_type": "code",
   "execution_count": 34,
   "metadata": {},
   "outputs": [
    {
     "data": {
      "text/plain": [
       "3"
      ]
     },
     "execution_count": 34,
     "metadata": {},
     "output_type": "execute_result"
    }
   ],
   "source": [
    "features"
   ]
  },
  {
   "cell_type": "code",
   "execution_count": 10,
   "metadata": {},
   "outputs": [
    {
     "data": {
      "text/plain": [
       "array([0.5, 0.5, 0.5, 0.5, 0.5, 0.5, 0.5, 0.5, 0.5, 0.5, 0.5, 0.5, 0.5,\n",
       "       0.5, 0.5, 0.5, 0.5, 0.5, 0.5, 0.5, 0.5, 0.5, 0.5, 0.5, 0.5, 0.5,\n",
       "       0.5, 0.5, 0.5, 0.5, 0.5, 0.5, 0.5, 0.5, 0.5, 0.5, 0.5, 0.5, 0.5,\n",
       "       0.5, 0.5, 0.5, 0.5, 0.5, 0.5, 0.5, 0.5, 0.5, 0.5, 0.5, 0.5, 0.5,\n",
       "       0.5, 0.5, 0.5, 0.5, 0.5, 0.5, 0.5, 0.5, 0.5, 0.5, 0.5, 0.5, 0.5,\n",
       "       0.5, 0.5, 0.5, 0.5, 0.5, 0.5, 0.5, 0.5, 0.5, 0.5, 0.5, 0.5, 0.5,\n",
       "       0.5, 0.5, 0.5, 0.5, 0.5, 0.5, 0.5, 0.5, 0.5, 0.5, 0.5, 0.5, 0.5,\n",
       "       0.5, 0.5, 0.5, 0.5, 0.5, 0.5, 0.5, 0.5, 0.5])"
      ]
     },
     "execution_count": 10,
     "metadata": {},
     "output_type": "execute_result"
    }
   ],
   "source": [
    "theta=np.zeros((3,))\n",
    "ans=sigmoid(np.dot(X,theta))\n",
    "ans"
   ]
  },
  {
   "cell_type": "code",
   "execution_count": 11,
   "metadata": {},
   "outputs": [],
   "source": [
    "def cost_func_logistic(theta,X,y):\n",
    "    m=len(y)\n",
    "    #cost function\n",
    "    h=np.dot(X,theta)\n",
    "    temp1= - np.dot(np.log(sigmoid(h)),y) - np.dot(np.log(1-sigmoid(h)),(1-y))\n",
    "    temp1=temp1/m\n",
    "    return temp1\n",
    "    # gradients\n",
    "def gradients(theta,X,y):\n",
    "    h=np.dot(X,theta)\n",
    "    #print(h.shape)\n",
    "    m=len(y)\n",
    "    temp2= sigmoid(h)-y\n",
    "    temp3=np.dot(X.transpose(),temp2)\n",
    "    temp3=temp3/m\n",
    "    return temp3"
   ]
  },
  {
   "cell_type": "code",
   "execution_count": 12,
   "metadata": {},
   "outputs": [
    {
     "data": {
      "text/plain": [
       "(100, 3)"
      ]
     },
     "execution_count": 12,
     "metadata": {},
     "output_type": "execute_result"
    }
   ],
   "source": [
    "X.shape"
   ]
  },
  {
   "cell_type": "code",
   "execution_count": 13,
   "metadata": {},
   "outputs": [
    {
     "name": "stdout",
     "output_type": "stream",
     "text": [
      "0.6931471805599452\n",
      "[ -0.1        -12.00921659 -11.26284221]\n"
     ]
    }
   ],
   "source": [
    "J=cost_func_logistic(theta,X,y)\n",
    "print(J)\n",
    "grad=gradients(theta,X,y,)\n",
    "print(grad)"
   ]
  },
  {
   "cell_type": "code",
   "execution_count": 14,
   "metadata": {},
   "outputs": [],
   "source": [
    "theta1=np.array([-24, 0.2, 0.2])"
   ]
  },
  {
   "cell_type": "code",
   "execution_count": 15,
   "metadata": {},
   "outputs": [
    {
     "name": "stdout",
     "output_type": "stream",
     "text": [
      "0.2183301938265977\n",
      "[0.04290299 2.56623412 2.64679737]\n"
     ]
    }
   ],
   "source": [
    "J1=cost_func_logistic(theta1,X,y)\n",
    "print(J1)\n",
    "gradients1=gradients(theta1,X,y)\n",
    "print(gradients1)"
   ]
  },
  {
   "cell_type": "code",
   "execution_count": 16,
   "metadata": {},
   "outputs": [],
   "source": [
    "from scipy import optimize as op"
   ]
  },
  {
   "cell_type": "markdown",
   "metadata": {},
   "source": [
    "# try\n",
    "Result=op.minimize(fun=cost_func_logistic,x0=theta,args=(X,y),method='TNC',jac=gradients)\n",
    "optimal_theta=Result.x"
   ]
  },
  {
   "cell_type": "markdown",
   "metadata": {},
   "source": [
    "# fminc in Python"
   ]
  },
  {
   "cell_type": "code",
   "execution_count": 17,
   "metadata": {},
   "outputs": [],
   "source": [
    "temp=op.fmin_tnc(func=cost_func_logistic,x0=theta.flatten(),fprime=gradients,args=(X,y.flatten()))"
   ]
  },
  {
   "cell_type": "code",
   "execution_count": 18,
   "metadata": {},
   "outputs": [
    {
     "name": "stdout",
     "output_type": "stream",
     "text": [
      "[-25.16131843   0.20623159   0.20147148]\n"
     ]
    }
   ],
   "source": [
    "fin_theta=temp[0]\n",
    "print(fin_theta)"
   ]
  },
  {
   "cell_type": "code",
   "execution_count": 19,
   "metadata": {},
   "outputs": [],
   "source": [
    "def predict(theta,X):\n",
    "    temp=np.dot(X,theta)\n",
    "    m=len(temp)\n",
    "    pred=np.zeros((m,))\n",
    "    for i in range(m):\n",
    "        if (temp[i]>=0.5):\n",
    "            pred[i]=1.0\n",
    "        else:\n",
    "            pred[i]=0.0\n",
    "    return pred"
   ]
  },
  {
   "cell_type": "markdown",
   "metadata": {},
   "source": [
    "# Code\n",
    "import numpy as np\n",
    "import scipy.optimize as op\n",
    "\n",
    "def Sigmoid(z):\n",
    "    return 1/(1 + np.exp(-z));\n",
    "\n",
    "def Gradient(theta,x,y):\n",
    "    m , n = x.shape\n",
    "    theta = theta.reshape((n,1));\n",
    "    y = y.reshape((m,1))\n",
    "    sigmoid_x_theta = Sigmoid(x.dot(theta));\n",
    "    grad = ((x.T).dot(sigmoid_x_theta-y))/m;\n",
    "    return grad.flatten();\n",
    "\n",
    "def CostFunc(theta,x,y):\n",
    "    m,n = x.shape; \n",
    "    theta = theta.reshape((n,1));\n",
    "    y = y.reshape((m,1));\n",
    "    term1 = np.log(Sigmoid(x.dot(theta)));\n",
    "    term2 = np.log(1-Sigmoid(x.dot(theta)));\n",
    "    term1 = term1.reshape((m,1))\n",
    "    term2 = term2.reshape((m,1))\n",
    "    term = y * term1 + (1 - y) * term2;\n",
    "    J = -((np.sum(term))/m);\n",
    "    return J;\n",
    "\n",
    "# intialize X and y\n",
    "X = np.array([[1,2,3],[1,3,4]]);\n",
    "y = np.array([[1],[0]]);\n",
    "\n",
    "m , n = X.shape;\n",
    "initial_theta = np.zeros(n);\n",
    "Result = op.minimize(fun = CostFunc, x0 = initial_theta, args = (X, y),method = 'TNC',jac = Gradient)\n",
    "print(Result.x)"
   ]
  },
  {
   "cell_type": "code",
   "execution_count": 156,
   "metadata": {},
   "outputs": [
    {
     "name": "stdout",
     "output_type": "stream",
     "text": [
      "p:  0.0  y:  0.0\n",
      "p:  0.0  y:  0.0\n",
      "p:  0.0  y:  0.0\n",
      "p:  1.0  y:  1.0\n",
      "p:  1.0  y:  1.0\n",
      "p:  0.0  y:  0.0\n",
      "p:  1.0  y:  1.0\n",
      "p:  0.0  y:  1.0\n",
      "p:  1.0  y:  1.0\n",
      "p:  1.0  y:  1.0\n",
      "p:  1.0  y:  0.0\n",
      "p:  0.0  y:  0.0\n",
      "p:  1.0  y:  1.0\n",
      "p:  1.0  y:  1.0\n",
      "p:  0.0  y:  0.0\n",
      "p:  1.0  y:  1.0\n",
      "p:  0.0  y:  1.0\n",
      "p:  0.0  y:  0.0\n",
      "p:  1.0  y:  1.0\n",
      "p:  0.0  y:  1.0\n",
      "p:  0.0  y:  0.0\n",
      "p:  1.0  y:  1.0\n",
      "p:  0.0  y:  0.0\n",
      "p:  0.0  y:  0.0\n",
      "p:  1.0  y:  1.0\n",
      "p:  1.0  y:  1.0\n",
      "p:  0.0  y:  1.0\n",
      "p:  1.0  y:  0.0\n",
      "p:  0.0  y:  0.0\n",
      "p:  0.0  y:  0.0\n",
      "p:  1.0  y:  1.0\n",
      "p:  1.0  y:  1.0\n",
      "p:  0.0  y:  0.0\n",
      "p:  0.0  y:  1.0\n",
      "p:  0.0  y:  0.0\n",
      "p:  0.0  y:  0.0\n",
      "p:  1.0  y:  0.0\n",
      "p:  1.0  y:  1.0\n",
      "p:  0.0  y:  0.0\n",
      "p:  0.0  y:  0.0\n",
      "p:  1.0  y:  1.0\n",
      "p:  0.0  y:  0.0\n",
      "p:  1.0  y:  1.0\n",
      "p:  0.0  y:  0.0\n",
      "p:  0.0  y:  0.0\n",
      "p:  0.0  y:  0.0\n",
      "p:  1.0  y:  1.0\n",
      "p:  1.0  y:  1.0\n",
      "p:  1.0  y:  1.0\n",
      "p:  1.0  y:  1.0\n",
      "p:  1.0  y:  1.0\n",
      "p:  1.0  y:  1.0\n",
      "p:  1.0  y:  1.0\n",
      "p:  0.0  y:  0.0\n",
      "p:  0.0  y:  0.0\n",
      "p:  0.0  y:  0.0\n",
      "p:  1.0  y:  1.0\n",
      "p:  1.0  y:  0.0\n",
      "p:  1.0  y:  1.0\n",
      "p:  1.0  y:  1.0\n",
      "p:  1.0  y:  1.0\n",
      "p:  0.0  y:  0.0\n",
      "p:  0.0  y:  0.0\n",
      "p:  0.0  y:  0.0\n",
      "p:  0.0  y:  0.0\n",
      "p:  0.0  y:  0.0\n",
      "p:  1.0  y:  1.0\n",
      "p:  0.0  y:  0.0\n",
      "p:  1.0  y:  1.0\n",
      "p:  1.0  y:  1.0\n",
      "p:  0.0  y:  0.0\n",
      "p:  1.0  y:  1.0\n",
      "p:  1.0  y:  1.0\n",
      "p:  1.0  y:  1.0\n",
      "p:  1.0  y:  1.0\n",
      "p:  1.0  y:  1.0\n",
      "p:  1.0  y:  1.0\n",
      "p:  1.0  y:  1.0\n",
      "p:  0.0  y:  0.0\n",
      "p:  0.0  y:  0.0\n",
      "p:  1.0  y:  1.0\n",
      "p:  1.0  y:  1.0\n",
      "p:  1.0  y:  1.0\n",
      "p:  0.0  y:  1.0\n",
      "p:  1.0  y:  1.0\n",
      "p:  1.0  y:  1.0\n",
      "p:  0.0  y:  0.0\n",
      "p:  1.0  y:  1.0\n",
      "p:  1.0  y:  1.0\n",
      "p:  0.0  y:  0.0\n",
      "p:  1.0  y:  1.0\n",
      "p:  1.0  y:  1.0\n",
      "p:  0.0  y:  0.0\n",
      "p:  1.0  y:  1.0\n",
      "p:  1.0  y:  1.0\n",
      "p:  1.0  y:  1.0\n",
      "p:  1.0  y:  1.0\n",
      "p:  1.0  y:  1.0\n",
      "p:  0.0  y:  1.0\n",
      "p:  1.0  y:  1.0\n"
     ]
    }
   ],
   "source": [
    "p=predict(fin_theta,X)\n",
    "pred=[sigmoid(np.dot(X,fin_theta))>=0.5]\n",
    "for i in range(len(y)):\n",
    "    print(\"p: \",p[i] ,\" y: \",y[i])\n",
    "\n",
    "#print(p)"
   ]
  },
  {
   "cell_type": "code",
   "execution_count": 21,
   "metadata": {},
   "outputs": [
    {
     "name": "stdout",
     "output_type": "stream",
     "text": [
      "89.0\n"
     ]
    }
   ],
   "source": [
    "print(np.mean((pred == y)) * 100)"
   ]
  },
  {
   "cell_type": "code",
   "execution_count": null,
   "metadata": {},
   "outputs": [],
   "source": []
  },
  {
   "cell_type": "code",
   "execution_count": 22,
   "metadata": {},
   "outputs": [
    {
     "name": "stdout",
     "output_type": "stream",
     "text": [
      "89.0\n"
     ]
    }
   ],
   "source": [
    "print(np.mean((p == y)) * 100)"
   ]
  },
  {
   "cell_type": "markdown",
   "metadata": {},
   "source": [
    "def gradient_descent_logistic(X,y,theta,alpha):\n",
    "    m=len(y)\n",
    "    #for i in range(iters):\n",
    "    h=np.dot(X,theta)\n",
    "    temp= sigmoid(h)-y\n",
    "    temp2=np.dot(X.transpose(),temp)\n",
    "    temp2=temp2/m\n",
    "    theta=theta- aplha*temp2\n",
    "    return theta"
   ]
  },
  {
   "cell_type": "markdown",
   "metadata": {},
   "source": [
    "ans=gradient_descent_logistic(X,y,theta,alpha,iters)"
   ]
  },
  {
   "cell_type": "markdown",
   "metadata": {},
   "source": [
    "# Regularized And Multi Features"
   ]
  },
  {
   "cell_type": "code",
   "execution_count": 59,
   "metadata": {},
   "outputs": [],
   "source": [
    "data=np.genfromtxt('ex2data2.txt',delimiter=',')\n",
    "X_new=data[:,0:2]\n",
    "y_new=data[:,2]"
   ]
  },
  {
   "cell_type": "code",
   "execution_count": 62,
   "metadata": {},
   "outputs": [
    {
     "data": {
      "text/plain": [
       "(118, 2)"
      ]
     },
     "execution_count": 62,
     "metadata": {},
     "output_type": "execute_result"
    }
   ],
   "source": [
    "X_new.shape"
   ]
  },
  {
   "cell_type": "code",
   "execution_count": 63,
   "metadata": {},
   "outputs": [],
   "source": [
    "def mapFeature(X1, X2):\n",
    "    degree = 6\n",
    "    out = np.ones(X_new.shape[0])[:,np.newaxis]\n",
    "    for i in range(1, degree+1):\n",
    "        for j in range(i+1):\n",
    "            out = np.hstack((out, np.multiply(np.power(X1, i-j),np.power(X2, j))[:,np.newaxis]))\n",
    "    return out"
   ]
  },
  {
   "cell_type": "code",
   "execution_count": 64,
   "metadata": {},
   "outputs": [],
   "source": [
    "X_multi=mapFeature(X_new[:,0],X_new[:,1])"
   ]
  },
  {
   "cell_type": "code",
   "execution_count": 65,
   "metadata": {},
   "outputs": [
    {
     "data": {
      "text/plain": [
       "(118, 28)"
      ]
     },
     "execution_count": 65,
     "metadata": {},
     "output_type": "execute_result"
    }
   ],
   "source": [
    "X_multi.shape"
   ]
  },
  {
   "cell_type": "code",
   "execution_count": 66,
   "metadata": {},
   "outputs": [
    {
     "data": {
      "text/plain": [
       "array([[ 1.00000000e+00,  5.12670000e-02,  6.99560000e-01, ...,\n",
       "         6.29470940e-04,  8.58939846e-03,  1.17205992e-01],\n",
       "       [ 1.00000000e+00, -9.27420000e-02,  6.84940000e-01, ...,\n",
       "         1.89305413e-03, -1.39810280e-02,  1.03255971e-01],\n",
       "       [ 1.00000000e+00, -2.13710000e-01,  6.92250000e-01, ...,\n",
       "         1.04882142e-02, -3.39734512e-02,  1.10046893e-01],\n",
       "       ...,\n",
       "       [ 1.00000000e+00, -4.84450000e-01,  9.99270000e-01, ...,\n",
       "         2.34007252e-01, -4.82684337e-01,  9.95627986e-01],\n",
       "       [ 1.00000000e+00, -6.33640000e-03,  9.99270000e-01, ...,\n",
       "         4.00328554e-05, -6.31330588e-03,  9.95627986e-01],\n",
       "       [ 1.00000000e+00,  6.32650000e-01, -3.06120000e-02, ...,\n",
       "         3.51474517e-07, -1.70067777e-08,  8.22905998e-10]])"
      ]
     },
     "execution_count": 66,
     "metadata": {},
     "output_type": "execute_result"
    }
   ],
   "source": [
    "X_multi"
   ]
  },
  {
   "cell_type": "code",
   "execution_count": 67,
   "metadata": {},
   "outputs": [],
   "source": [
    "lamda=1\n",
    "initial_theta=np.zeros((X_multi.shape[1],))"
   ]
  },
  {
   "cell_type": "code",
   "execution_count": 68,
   "metadata": {},
   "outputs": [
    {
     "data": {
      "text/plain": [
       "(28,)"
      ]
     },
     "execution_count": 68,
     "metadata": {},
     "output_type": "execute_result"
    }
   ],
   "source": [
    "initial_theta.shape"
   ]
  },
  {
   "cell_type": "code",
   "execution_count": 140,
   "metadata": {},
   "outputs": [],
   "source": [
    "def costFunctionReg(theta_t,X_t,y_t,lamda):\n",
    "    m=len(y_t)\n",
    "    h=sigmoid(np.dot(X_t,theta_t))\n",
    "    temp=0\n",
    "    temp= - np.dot(np.log(h).T,y_t) - np.dot(np.log(1-h).T,(1-y_t))\n",
    "    temp=temp/m\n",
    "    #theta1=0\n",
    "    n=len(theta_t)\n",
    "    #for j in range(1,n):\n",
    "     #   theta1+=(theta_t[j])** 2\n",
    "    theta1=theta_t\n",
    "    theta1[0]=0\n",
    "    theta2=sum(theta1**2)\n",
    "    #theta1=theta1-theta_t[0]**2\n",
    "    #temp1=(lamda/(2*m)) *(theta_t[1:].T @ theta_t[1:])\n",
    "    #J=temp1+temp\n",
    "    return temp+theta2"
   ]
  },
  {
   "cell_type": "code",
   "execution_count": 141,
   "metadata": {},
   "outputs": [
    {
     "name": "stdout",
     "output_type": "stream",
     "text": [
      "0.6931471805599453\n"
     ]
    }
   ],
   "source": [
    "J=costFunctionReg(initial_theta,X_multi,y_new,lamda)\n",
    "print(J)"
   ]
  },
  {
   "cell_type": "code",
   "execution_count": 106,
   "metadata": {},
   "outputs": [],
   "source": [
    "def lrCostFunction(theta_t1, X_t1, y_t1, lambda_t1):\n",
    "    m = len(y_t1)\n",
    "    J = (-1/m) * (y_t1.T @ np.log(sigmoid(X_t1 @ theta_t1)) + (1 - y_t1.T) @ np.log(1 - sigmoid(X_t1 @ theta_t1)))\n",
    "    reg = (lambda_t1/(2*m)) * (theta_t1[1:].T @ theta_t1[1:])\n",
    "    J = J + reg\n",
    "    return J"
   ]
  },
  {
   "cell_type": "code",
   "execution_count": 111,
   "metadata": {},
   "outputs": [
    {
     "data": {
      "text/plain": [
       "array([1., 1., 1., 1., 1., 1., 1., 1., 1., 1., 1., 1., 1., 1., 1., 1., 1.,\n",
       "       1., 1., 1., 1., 1., 1., 1., 1., 1., 1., 1., 1., 1., 1., 1., 1., 1.,\n",
       "       1., 1., 1., 1., 1., 1., 1., 1., 1., 1., 1., 1., 1., 1., 1., 1., 1.,\n",
       "       1., 1., 1., 1., 1., 1., 1., 0., 0., 0., 0., 0., 0., 0., 0., 0., 0.,\n",
       "       0., 0., 0., 0., 0., 0., 0., 0., 0., 0., 0., 0., 0., 0., 0., 0., 0.,\n",
       "       0., 0., 0., 0., 0., 0., 0., 0., 0., 0., 0., 0., 0., 0., 0., 0., 0.,\n",
       "       0., 0., 0., 0., 0., 0., 0., 0., 0., 0., 0., 0., 0., 0., 0., 0.])"
      ]
     },
     "execution_count": 111,
     "metadata": {},
     "output_type": "execute_result"
    }
   ],
   "source": [
    "y_new"
   ]
  },
  {
   "cell_type": "code",
   "execution_count": 130,
   "metadata": {},
   "outputs": [
    {
     "name": "stdout",
     "output_type": "stream",
     "text": [
      "0.6931471805599453\n"
     ]
    }
   ],
   "source": [
    "J1=lrCostFunction(initial_theta,X_multi,y_new,lamda)\n",
    "print(J1)"
   ]
  },
  {
   "cell_type": "code",
   "execution_count": 127,
   "metadata": {},
   "outputs": [],
   "source": [
    "#X"
   ]
  },
  {
   "cell_type": "code",
   "execution_count": 126,
   "metadata": {},
   "outputs": [],
   "source": [
    "#X**2"
   ]
  },
  {
   "cell_type": "code",
   "execution_count": 153,
   "metadata": {},
   "outputs": [],
   "source": [
    "def costFunctionRegGradient(theta_t,X_t,y_t,lamda):\n",
    "    m=len(y_t)\n",
    "    h=sigmoid(np.dot(X_t,theta_t))\n",
    "    grad=np.zeros([m,1])\n",
    "    grad=(1/m)* np.dot(X_t.transpose(),(h-y_t))\n",
    "    theta1=(lamda/m) *theta_t\n",
    "    #theta1\n",
    "    #temp1[0]=temp1[0]- (lamda/m)*theta[0]\n",
    "    #temp[1:]= temp[1:] + (lamda/m)* theta[1:]\n",
    "    grad[1:]=grad[1:]+ (lamda/m)* theta_t[1:]\n",
    "    return grad\n"
   ]
  },
  {
   "cell_type": "code",
   "execution_count": 154,
   "metadata": {},
   "outputs": [
    {
     "name": "stdout",
     "output_type": "stream",
     "text": [
      "[8.47457627e-03 1.87880932e-02 7.77711864e-05 5.03446395e-02\n",
      " 1.15013308e-02 3.76648474e-02 1.83559872e-02 7.32393391e-03\n",
      " 8.19244468e-03 2.34764889e-02 3.93486234e-02 2.23923907e-03\n",
      " 1.28600503e-02 3.09593720e-03 3.93028171e-02 1.99707467e-02\n",
      " 4.32983232e-03 3.38643902e-03 5.83822078e-03 4.47629067e-03\n",
      " 3.10079849e-02 3.10312442e-02 1.09740238e-03 6.31570797e-03\n",
      " 4.08503006e-04 7.26504316e-03 1.37646175e-03 3.87936363e-02]\n"
     ]
    }
   ],
   "source": [
    "grads_t=costFunctionRegGradient(initial_theta,X_multi,y_new,lamda)\n",
    "print(grads_t)"
   ]
  },
  {
   "cell_type": "code",
   "execution_count": 144,
   "metadata": {},
   "outputs": [],
   "source": [
    "def lrGradientDescent(theta1, X1, y1, lambda_t):\n",
    "    m = len(y1)\n",
    "    grad = np.zeros([m,1])\n",
    "    grad = (1/m) * X1.T @ (sigmoid(X1 @ theta1) - y1)\n",
    "    grad[1:] = grad[1:] + (lambda_t / m) * theta1[1:]\n",
    "    return grad\n"
   ]
  },
  {
   "cell_type": "code",
   "execution_count": 145,
   "metadata": {},
   "outputs": [
    {
     "name": "stdout",
     "output_type": "stream",
     "text": [
      "[8.47457627e-03 1.87880932e-02 7.77711864e-05 5.03446395e-02\n",
      " 1.15013308e-02 3.76648474e-02 1.83559872e-02 7.32393391e-03\n",
      " 8.19244468e-03 2.34764889e-02 3.93486234e-02 2.23923907e-03\n",
      " 1.28600503e-02 3.09593720e-03 3.93028171e-02 1.99707467e-02\n",
      " 4.32983232e-03 3.38643902e-03 5.83822078e-03 4.47629067e-03\n",
      " 3.10079849e-02 3.10312442e-02 1.09740238e-03 6.31570797e-03\n",
      " 4.08503006e-04 7.26504316e-03 1.37646175e-03 3.87936363e-02]\n"
     ]
    }
   ],
   "source": [
    "grads_med=lrGradientDescent(initial_theta,X_multi,y_new,lamda)\n",
    "print(grads_med)"
   ]
  },
  {
   "cell_type": "code",
   "execution_count": 155,
   "metadata": {},
   "outputs": [
    {
     "name": "stdout",
     "output_type": "stream",
     "text": [
      "[ 0.00000000e+00 -3.76673871e-04  2.44863585e-02 -2.85006005e-02\n",
      " -1.02161202e-02 -9.29263640e-03 -5.17888263e-03 -3.22855477e-03\n",
      " -4.96894134e-03 -2.37739273e-03 -2.49744045e-02 -1.26915912e-03\n",
      " -7.79227480e-03 -2.67528311e-03 -1.69793485e-02 -9.19719882e-03\n",
      " -2.57078359e-03 -1.64507512e-03 -3.27182616e-03 -3.33497887e-03\n",
      " -1.13031180e-02 -1.97676632e-02 -3.03476723e-04 -4.21695027e-03\n",
      " -8.64193777e-05 -4.48097105e-03 -1.19336459e-03 -1.83816697e-02]\n"
     ]
    }
   ],
   "source": [
    "output = op.fmin_tnc(func = costFunctionReg, x0 = initial_theta.flatten(), fprime = costFunctionRegGradient, \\\n",
    "                         args = (X_multi, y_new.flatten(), lamda))\n",
    "theta_out = output[0]\n",
    "print(theta_out) # theta contains the optimized values\n"
   ]
  },
  {
   "cell_type": "code",
   "execution_count": 150,
   "metadata": {},
   "outputs": [
    {
     "name": "stdout",
     "output_type": "stream",
     "text": [
      "[ 1.27271029  0.62529965  1.18111687 -2.01987399 -0.91743191 -1.43166931\n",
      "  0.12393226 -0.36553117 -0.35725402 -0.17516292 -1.45817012 -0.05098418\n",
      " -0.61558546 -0.27469165 -1.19271297 -0.24217839 -0.20603291 -0.04466178\n",
      " -0.27778956 -0.29539513 -0.45645982 -1.04319156  0.02779373 -0.29244878\n",
      "  0.01555762 -0.32742408 -0.14389151 -0.92467486]\n"
     ]
    }
   ],
   "source": [
    "output = op.fmin_tnc(func = lrCostFunction, x0 = initial_theta.flatten(), fprime = lrGradientDescent, \\\n",
    "                         args = (X_multi, y_new.flatten(), lamda))\n",
    "theta_out_net = output[0]\n",
    "print(theta_out_net) # theta contains the optimized values\n"
   ]
  },
  {
   "cell_type": "code",
   "execution_count": 151,
   "metadata": {},
   "outputs": [
    {
     "data": {
      "text/plain": [
       "83.05084745762711"
      ]
     },
     "execution_count": 151,
     "metadata": {},
     "output_type": "execute_result"
    }
   ],
   "source": [
    "pred = [sigmoid(np.dot(X_multi, theta_out_net)) >= 0.5]\n",
    "np.mean(pred == y_new.flatten()) * 100\n"
   ]
  },
  {
   "cell_type": "code",
   "execution_count": null,
   "metadata": {},
   "outputs": [],
   "source": []
  }
 ],
 "metadata": {
  "kernelspec": {
   "display_name": "Python 3",
   "language": "python",
   "name": "python3"
  },
  "language_info": {
   "codemirror_mode": {
    "name": "ipython",
    "version": 3
   },
   "file_extension": ".py",
   "mimetype": "text/x-python",
   "name": "python",
   "nbconvert_exporter": "python",
   "pygments_lexer": "ipython3",
   "version": "3.6.5"
  }
 },
 "nbformat": 4,
 "nbformat_minor": 2
}
